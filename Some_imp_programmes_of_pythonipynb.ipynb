{
  "nbformat": 4,
  "nbformat_minor": 0,
  "metadata": {
    "colab": {
      "name": "Some imp programmes of pythonipynb",
      "private_outputs": true,
      "provenance": [],
      "collapsed_sections": []
    },
    "kernelspec": {
      "name": "python3",
      "display_name": "Python 3"
    },
    "language_info": {
      "name": "python"
    }
  },
  "cells": [
    {
      "cell_type": "markdown",
      "source": [
        "This Colab is meant for the practise purpose only for the non oil and gas questions."
      ],
      "metadata": {
        "id": "a20lQ0w2yeTf"
      }
    },
    {
      "cell_type": "markdown",
      "source": [
        ""
      ],
      "metadata": {
        "id": "Hg14gNw5ydyQ"
      }
    },
    {
      "cell_type": "markdown",
      "source": [
        "Question 1 \n",
        "Create a function that returns number of times dog enter in the string : \"This dog runs faster than the other dog\" bold text"
      ],
      "metadata": {
        "id": "jhFlIhTCmewI"
      }
    },
    {
      "cell_type": "code",
      "source": [
        "def countdog(st):\n",
        "  count=0;\n",
        "  for word in st.lower().split():\n",
        "    if word==\"dog\":\n",
        "      count = count +1;\n",
        "      return count\n",
        "     countdog (\"This dog runs faster than the other dog\")"
      ],
      "metadata": {
        "id": "OknbZ3-wmhDn"
      },
      "execution_count": null,
      "outputs": []
    },
    {
      "cell_type": "markdown",
      "source": [
        "You are driving a little too fast, and a police officer stops you. Write a function to return one of 3 possible results: \"No ticket\", \"Small ticket\", or \"Big Ticket\". If your speed is 60 or less, the result is \"No Ticket\". If speed is between 61 and 80 inclusive, the result is \"Small Ticket\". If speed is 81 or more, the result is \"Big Ticket\". Unless it is your birthday (encoded as a boolean value in the parameters of the function) -- on your birthday, your speed can be 5 higher in all cases."
      ],
      "metadata": {
        "id": "vTHWSRfBnNKn"
      }
    },
    {
      "cell_type": "code",
      "source": [
        "caughting_speed=float(input(\"Enter the speed: \"))\n",
        "birthday=input(\"You have your birthday Yes or No ?: \")\n",
        "if birthday ==\"Yes\":\n",
        "  if (caughting_speed>86):\n",
        "    print(\"Big Ticket\")\n",
        "  elif 65<=caughting_speed<=85:\n",
        "    print(\"Small Tickets\")\n",
        "  else:\n",
        "    print(\"No tickets\")\n",
        "elif birthday ==\"No\":\n",
        "  if (caughting_speed>80):\n",
        "    print(\"Big Ticket\")\n",
        "  elif 60<=caughting_speed<=80:\n",
        "    print(\"Small Tickets\")\n",
        "  else:\n",
        "    print(\"No tickets\")"
      ],
      "metadata": {
        "id": "XMIP9WT5u4ym"
      },
      "execution_count": null,
      "outputs": []
    },
    {
      "cell_type": "markdown",
      "source": [
        "Question 3. Create an array of 10 Fives using numphy"
      ],
      "metadata": {
        "id": "Kj7TiW1hnVvz"
      }
    },
    {
      "cell_type": "code",
      "source": [
        "import numpy as np\n",
        "arr=np.ones(10)*5\n",
        "arr"
      ],
      "metadata": {
        "id": "O-Pj6vSVncaL"
      },
      "execution_count": null,
      "outputs": []
    },
    {
      "cell_type": "markdown",
      "source": [
        "Question 4.Take the name as the input from the user and print it in the reverse format"
      ],
      "metadata": {
        "id": "jUODJRQcDJ6I"
      }
    },
    {
      "cell_type": "code",
      "source": [
        "name=\"Pranjal\"\n",
        "name_new=name[8:: -1]\n",
        "print(name_new)"
      ],
      "metadata": {
        "id": "Rs09fylODhM3"
      },
      "execution_count": null,
      "outputs": []
    },
    {
      "cell_type": "markdown",
      "source": [
        "Question 5.Take the age as the input from the user and print it in the reverse format.\n"
      ],
      "metadata": {
        "id": "bz8HX1SkEQ7I"
      }
    },
    {
      "cell_type": "code",
      "source": [
        "my_age = input(\"Enter the present age\")\n",
        "new_age= my_age[:: -1]\n",
        "new_age"
      ],
      "metadata": {
        "id": "L0RnRo19EWex"
      },
      "execution_count": null,
      "outputs": []
    },
    {
      "cell_type": "markdown",
      "source": [
        "CONCEPT 6: PRINTING THE ELEMETS OF THE LIST/NESTED LIST IN THE VERTICAL FORMAT"
      ],
      "metadata": {
        "id": "P40OOunIbY7v"
      }
    },
    {
      "cell_type": "code",
      "source": [
        "l=[1,2,3,4,5,6]\n",
        "for x in l:\n",
        "  print(x)"
      ],
      "metadata": {
        "id": "PURiv5gYbhIS"
      },
      "execution_count": null,
      "outputs": []
    },
    {
      "cell_type": "code",
      "source": [
        "fruits =     [\"Strawberries\", \"Nectarines\", \"Apples\"]\n",
        "vegetables = [\"Spinach\", \"Kale\", \"Tomatoes\"]\n",
        "names=       [\"Pranjal\",\"Monish\",\"Gunjan\"]\n",
        "dirty_dozen = [fruits,vegetables,names] \n",
        "for n in dirty_dozen:        # Mehtod to print the elements of the list in the vertical method\n",
        "  print(n)                   # Dont use print(dirty_dozen(n)) just print n"
      ],
      "metadata": {
        "id": "Q0HnmdFZb0ln"
      },
      "execution_count": null,
      "outputs": []
    },
    {
      "cell_type": "markdown",
      "source": [
        "CONCEPT 7: GENRATING THE RANDOM LIST CONTAING RANDOM NUMBERS WHOSE LENGTH HAS BEEN DEFINED BY THE USER"
      ],
      "metadata": {
        "id": "P61z86fup4qO"
      }
    },
    {
      "cell_type": "code",
      "source": [
        "import random\n",
        "random_list = []\n",
        "length=int(input(\"Enter the len of the string \"))\n",
        "for i in range(0,length):\n",
        "  n=random.randint(0,255)\n",
        "  random_list.append(n)\n",
        "print(random_list)"
      ],
      "metadata": {
        "id": "sSy-mwWEqOE_"
      },
      "execution_count": null,
      "outputs": []
    },
    {
      "cell_type": "markdown",
      "source": [
        "CONCEPT 8: GENRATING THE RANDOM LIST CONTAING RANDOM NUMBERS WHOSE LENGTH HAS NOT BEEN DEFINED BY THE USER"
      ],
      "metadata": {
        "id": "Ci43IuOqrpvp"
      }
    },
    {
      "cell_type": "code",
      "source": [
        "import random\n",
        "randomlist = []\n",
        "for i in range(0,5):\n",
        "  n = random.randint(1,30)\n",
        "  randomlist.append(n)\n",
        "print(randomlist)"
      ],
      "metadata": {
        "id": "LBNKajvtrrHC"
      },
      "execution_count": null,
      "outputs": []
    },
    {
      "cell_type": "markdown",
      "source": [
        "REVERSING OF THE STRING AND EXTRACTING EACH ELEMENT IN A VERTICAL MANNER WITHOUT USING ANY INBUILT FUNCTION OF THE PYTHON."
      ],
      "metadata": {
        "id": "s87MhMlGlrks"
      }
    },
    {
      "cell_type": "code",
      "source": [
        "string=input(\"Enter the string: \")\n",
        "length=len(string)-1\n",
        "count=length\n",
        "for i in range(0,length+1):\n",
        " print(string[count])\n",
        " count=count-1"
      ],
      "metadata": {
        "id": "YuRH5mk2lqX1"
      },
      "execution_count": null,
      "outputs": []
    },
    {
      "cell_type": "markdown",
      "source": [
        "REVERSING OF THE STRING AND PRINTING THE REVERSE STRING IN SAME LINE WITHOUT USING ANY INBUILT FUNCTION OF THE PYTHON."
      ],
      "metadata": {
        "id": "LsHjjHcgmm-X"
      }
    },
    {
      "cell_type": "code",
      "source": [
        "reverse=\"\"\n",
        "string=input(\"Enter the string: \")\n",
        "length=len(string)-1                #  Always use -1 otherwise error index out of range will happen each and every time\n",
        "count=length\n",
        "for i in range(0,length+1):         #  Always use length + 1 for looping in each and every alphabet.\n",
        " new_string=string[count]\n",
        " reverse=reverse+new_string\n",
        " count=count-1\n",
        "print(reverse)"
      ],
      "metadata": {
        "id": "QYLIdocTmMwr"
      },
      "execution_count": null,
      "outputs": []
    },
    {
      "cell_type": "markdown",
      "source": [
        "Write a python function to generate and return the list of all possible sentences created from the given lists of Subject, Verb and Object.\n",
        "Note: The sentence should contain only one subject, verb and object each.\n",
        "Sample Input\tExpected Output\n",
        "subjects=[“I”, “You”]\n",
        "verbs=[“Play”, “Love”]\n",
        "objects=[“Hockey”,”Football”]\tI Play Hockey\n",
        "I Play Football\n",
        "I Love Hockey\n",
        "I Love Football\n",
        "You Play Hockey\n",
        "You Play Football\n",
        "You Love Hockey\n",
        "You Love Football"
      ],
      "metadata": {
        "id": "50fLFr7XtkSz"
      }
    },
    {
      "cell_type": "code",
      "source": [
        "def generate_sentences(subjects,verbs,objects):\n",
        "\t#start writing your code here\n",
        "\tlist=[]\n",
        "\tfor i in subjects:\n",
        "\t    for j in verbs:\n",
        "\t        for k in objects:\n",
        "\t            list.append(i+\" \"+j+\" \"+k)\n",
        "\treturn list \n",
        "\t           \n",
        "subjects=[\"I\",\"You\"]\n",
        "verbs=[\"love\", \"play\"]\n",
        "objects=[\"Hockey\",\"Football\"]\n",
        "print(generate_sentences(subjects,verbs,objects))"
      ],
      "metadata": {
        "id": "-Wgr9178tjmp"
      },
      "execution_count": null,
      "outputs": []
    },
    {
      "cell_type": "markdown",
      "source": [
        "Programme to find out the maxium element present in the list without using the max keyword."
      ],
      "metadata": {
        "id": "GJRI9YTuq8jq"
      }
    },
    {
      "cell_type": "code",
      "source": [
        "l=[1,145,3,23,67]\n",
        "max   = 0\n",
        "for i in l:\n",
        "  if(max < i):\n",
        "    max=i\n",
        "print(max)"
      ],
      "metadata": {
        "id": "i7F-h1VEq7w0"
      },
      "execution_count": null,
      "outputs": []
    }
  ]
}