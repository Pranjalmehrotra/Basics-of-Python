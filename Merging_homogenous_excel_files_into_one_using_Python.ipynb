{
  "nbformat": 4,
  "nbformat_minor": 0,
  "metadata": {
    "colab": {
      "name": "Merging homogenous excel files into one using Python.ipynb",
      "private_outputs": true,
      "provenance": [],
      "collapsed_sections": [],
      "toc_visible": true
    },
    "kernelspec": {
      "name": "python3",
      "display_name": "Python 3"
    },
    "language_info": {
      "name": "python"
    }
  },
  "cells": [
    {
      "cell_type": "markdown",
      "source": [
        "The Excel file link can be find here: https://archive.ics.uci.edu/ml/datasets/Activity+Recognition+system+based+on+Multisensor+data+fusion+%28AReM%29.\n",
        "After clicking the link ,2 options will be there in download.\n",
        "Select the data folder option and then select the ARem.zip.\n",
        "The zip file will be downloaded and extract all in order to perform the merging operations."
      ],
      "metadata": {
        "id": "9tW1_Es3zADu"
      }
    },
    {
      "cell_type": "markdown",
      "source": [
        "This Merging Code is applicable all ther excel files have same similarity in terms of columns.\n",
        "If any one of the excel file has different in terms of column then it may work but the output excel file will be very haphazard way. "
      ],
      "metadata": {
        "id": "mfe5Y2ATHNku"
      }
    },
    {
      "cell_type": "markdown",
      "source": [
        "This colab contains the solution of the problem:\n",
        "\n",
        "Problem Statement :We have multiple excel files present in one folder.And like wise we have many folder.Our main aim is to open one folder at a time and merge all the excel files into a single one using the pandas and coding aspect only."
      ],
      "metadata": {
        "id": "GSVRznq7Asly"
      }
    },
    {
      "cell_type": "markdown",
      "source": [
        "Problem 1: Merging of bending 1 excel files along with writing dwon the steps."
      ],
      "metadata": {
        "id": "CxIShL9oxf_7"
      }
    },
    {
      "cell_type": "markdown",
      "source": [
        "Step 1.Import the required libraries"
      ],
      "metadata": {
        "id": "Db2UJAZTFnd-"
      }
    },
    {
      "cell_type": "code",
      "source": [
        "import pandas as pd\n",
        "import os"
      ],
      "metadata": {
        "id": "VF9J9xU-WYPi"
      },
      "execution_count": null,
      "outputs": []
    },
    {
      "cell_type": "markdown",
      "source": [
        "Step2.Create Variables for input and output locations(Here the excel files are present in the my drive and we have mounted the google drive and generated the link of the file where it is present).\n",
        "Main point: Output file location and input file location are same."
      ],
      "metadata": {
        "id": "Whi5Vf4WFsgR"
      }
    },
    {
      "cell_type": "code",
      "source": [
        "input_loc =\"/content/drive/MyDrive/AReM/bending1\"   \n",
        "output_loc=\"/content/drive/MyDrive/AReM/bending1\""
      ],
      "metadata": {
        "id": "5l7tqbQdFieD"
      },
      "execution_count": null,
      "outputs": []
    },
    {
      "cell_type": "code",
      "source": [
        "input_loc"
      ],
      "metadata": {
        "id": "CsilDs-uMuXO"
      },
      "execution_count": null,
      "outputs": []
    },
    {
      "cell_type": "markdown",
      "source": [
        "Step3: Create Variables for list of input files"
      ],
      "metadata": {
        "id": "96soukNUGfPE"
      }
    },
    {
      "cell_type": "code",
      "source": [
        "filelist=os.listdir(input_loc) # filelist is a variable which is storing the contents of the folder whose link we have pased via input_loc.\n",
        "# Here this varaible contains list of excel files."
      ],
      "metadata": {
        "id": "41ju0HVTGVkt"
      },
      "execution_count": null,
      "outputs": []
    },
    {
      "cell_type": "markdown",
      "source": [
        "Step 4.Consolidated the files using the for loop."
      ],
      "metadata": {
        "id": "O6V-TuuQKb03"
      }
    },
    {
      "cell_type": "code",
      "source": [
        "finaldf=pd.DataFrame()\n",
        "for files in filelist:\n",
        "  if files.endswith(\".csv\"):      \n",
        "    #print(os.path.join(input_loc,files))\n",
        "    df=pd.read_csv(os.path.join(input_loc,files),skiprows=4) # Here in the excel file we have some irrevelant data till the row no 4 thats why we have skip those rows.\n",
        "    print(df)    \n",
        "    finaldf=finaldf.append(df)\n",
        "finaldf.to_excel(os.path.join(output_loc,\"MergedExcel1.xlsx\"),index=False)"
      ],
      "metadata": {
        "id": "pDVfJcFoKbeu"
      },
      "execution_count": null,
      "outputs": []
    },
    {
      "cell_type": "code",
      "source": [
        "finaldf"
      ],
      "metadata": {
        "id": "EF0AQCZixL4E"
      },
      "execution_count": null,
      "outputs": []
    },
    {
      "cell_type": "markdown",
      "source": [
        "Problem 2: Merging of bending 2 excel files"
      ],
      "metadata": {
        "id": "KCDT-h3DBm2Q"
      }
    },
    {
      "cell_type": "code",
      "source": [
        "import pandas as pd\n",
        "import os"
      ],
      "metadata": {
        "id": "UrLwQ7040mOC"
      },
      "execution_count": null,
      "outputs": []
    },
    {
      "cell_type": "code",
      "source": [
        "input_location=\"/content/drive/MyDrive/AReM/bending2\"\n",
        "output_location=\"/content/drive/MyDrive/AReM/bending2\""
      ],
      "metadata": {
        "id": "4ZNCaM03BwgZ"
      },
      "execution_count": null,
      "outputs": []
    },
    {
      "cell_type": "code",
      "source": [
        "filelist=os.listdir(input_location) "
      ],
      "metadata": {
        "id": "X26axgwfCG8f"
      },
      "execution_count": null,
      "outputs": []
    },
    {
      "cell_type": "code",
      "source": [
        "finaldf=pd.DataFrame()\n",
        "for files in filelist:\n",
        "  if files.endswith(\".csv\"):      \n",
        "    #print(os.path.join(input_loc,files))\n",
        "    df=pd.read_csv(os.path.join(input_location,files),skiprows=4) # Here in the excel file we have some irrevelant data till the row no 4 thats why we have skip those rows.\n",
        "    print(df)    \n",
        "    finaldf=finaldf.append(df)\n",
        "finaldf.to_excel(os.path.join(output_location,\"MergedExcel2.xlsx\"),index=False)"
      ],
      "metadata": {
        "id": "5hHuxf16CMH5"
      },
      "execution_count": null,
      "outputs": []
    },
    {
      "cell_type": "code",
      "source": [
        "print(finaldf)"
      ],
      "metadata": {
        "id": "oBwctf_mDMYV"
      },
      "execution_count": null,
      "outputs": []
    },
    {
      "cell_type": "markdown",
      "source": [
        "Prblem 3:Merging of Cycling excel files"
      ],
      "metadata": {
        "id": "mVKUiwwGD493"
      }
    },
    {
      "cell_type": "code",
      "source": [
        "import pandas as pd\n",
        "import os"
      ],
      "metadata": {
        "id": "PAIxLiCtDQXF"
      },
      "execution_count": null,
      "outputs": []
    },
    {
      "cell_type": "code",
      "source": [
        "input_location3=\"/content/drive/MyDrive/AReM/cycling\"\n",
        "output_location3=\"/content/drive/MyDrive/AReM/cycling\""
      ],
      "metadata": {
        "id": "yg2N1ziLGFZ-"
      },
      "execution_count": null,
      "outputs": []
    },
    {
      "cell_type": "code",
      "source": [
        "filelist=os.listdir(input_location) "
      ],
      "metadata": {
        "id": "IGXqUi8sGRlW"
      },
      "execution_count": null,
      "outputs": []
    },
    {
      "cell_type": "code",
      "source": [
        "finaldf=pd.DataFrame()\n",
        "for files in filelist:\n",
        "  if files.endswith(\".csv\"):      \n",
        "    #print(os.path.join(input_loc,files))\n",
        "    df=pd.read_csv(os.path.join(input_location3,files),skiprows=4) # Here in the excel file we have some irrevelant data till the row no 4 thats why we have skip those rows.\n",
        "    print(df)    \n",
        "    finaldf=finaldf.append(df)\n",
        "finaldf.to_excel(os.path.join(output_location3,\"MergedExcel3.xlsx\"),index=False)"
      ],
      "metadata": {
        "id": "-Koagew3GV52"
      },
      "execution_count": null,
      "outputs": []
    },
    {
      "cell_type": "markdown",
      "source": [
        "Problem 4: Merging of lying excel files"
      ],
      "metadata": {
        "id": "5V-Nmg7D0aEJ"
      }
    },
    {
      "cell_type": "code",
      "source": [
        "import pandas as pd\n",
        "import os"
      ],
      "metadata": {
        "id": "1fyisIA40dnJ"
      },
      "execution_count": null,
      "outputs": []
    },
    {
      "cell_type": "code",
      "source": [
        "input_location3=\"/content/drive/MyDrive/AReM/lying\"\n",
        "output_location3=\"/content/drive/MyDrive/AReM/lying\""
      ],
      "metadata": {
        "id": "xjhtIgkx2EZX"
      },
      "execution_count": null,
      "outputs": []
    },
    {
      "cell_type": "code",
      "source": [
        "filelist=os.listdir(input_location)"
      ],
      "metadata": {
        "id": "4i8gf93x2EoS"
      },
      "execution_count": null,
      "outputs": []
    },
    {
      "cell_type": "code",
      "source": [
        "finaldf=pd.DataFrame()\n",
        "for files in filelist:\n",
        "  if files.endswith(\".csv\"):      \n",
        "    #print(os.path.join(input_loc,files))\n",
        "    df=pd.read_csv(os.path.join(input_location3,files),skiprows=4) # Here in the excel file we have some irrevelant data till the row no 4 thats why we have skip those rows.\n",
        "    print(df)    \n",
        "    finaldf=finaldf.append(df)\n",
        "finaldf.to_excel(os.path.join(output_location3,\"MergedExcel4.xlsx\"),index=False)"
      ],
      "metadata": {
        "id": "0YGc74BC2E2n"
      },
      "execution_count": null,
      "outputs": []
    },
    {
      "cell_type": "markdown",
      "source": [
        "Problem 5: Merging of sitting excel files"
      ],
      "metadata": {
        "id": "46bmQydZ2Q2Z"
      }
    },
    {
      "cell_type": "code",
      "source": [
        "import pandas as pd\n",
        "import os"
      ],
      "metadata": {
        "id": "Ug8Vz8QU2j39"
      },
      "execution_count": null,
      "outputs": []
    },
    {
      "cell_type": "code",
      "source": [
        "input_location3=\"/content/drive/MyDrive/AReM/sitting\"\n",
        "output_location3=\"/content/drive/MyDrive/AReM/sitting\""
      ],
      "metadata": {
        "id": "8DJ-pN3J2jxs"
      },
      "execution_count": null,
      "outputs": []
    },
    {
      "cell_type": "code",
      "source": [
        "filelist=os.listdir(input_location)"
      ],
      "metadata": {
        "id": "bD3QZVWS2jpJ"
      },
      "execution_count": null,
      "outputs": []
    },
    {
      "cell_type": "code",
      "source": [
        "finaldf=pd.DataFrame()\n",
        "for files in filelist:\n",
        "  if files.endswith(\".csv\"):      \n",
        "    #print(os.path.join(input_loc,files))\n",
        "    df=pd.read_csv(os.path.join(input_location3,files),skiprows=4) # Here in the excel file we have some irrevelant data till the row no 4 thats why we have skip those rows.\n",
        "    print(df)    \n",
        "    finaldf=finaldf.append(df)\n",
        "finaldf.to_excel(os.path.join(output_location3,\"MergedExcel5.xlsx\"),index=False)"
      ],
      "metadata": {
        "id": "xo5BE9w42VQJ"
      },
      "execution_count": null,
      "outputs": []
    },
    {
      "cell_type": "markdown",
      "source": [
        "Problem 6: Merging of standing excel **files**"
      ],
      "metadata": {
        "id": "iDPaqz-420Iy"
      }
    },
    {
      "cell_type": "code",
      "source": [
        "import pandas as pd\n",
        "import os"
      ],
      "metadata": {
        "id": "yqLtOF8V2lAw"
      },
      "execution_count": null,
      "outputs": []
    },
    {
      "cell_type": "code",
      "source": [
        "input_location3=\"/content/drive/MyDrive/AReM/standing\"\n",
        "output_location3=\"/content/drive/MyDrive/AReM/standing\""
      ],
      "metadata": {
        "id": "9uTCO5PJ2k6C"
      },
      "execution_count": null,
      "outputs": []
    },
    {
      "cell_type": "code",
      "source": [
        "filelist=os.listdir(input_location)"
      ],
      "metadata": {
        "id": "EI3Bhx_L2kx4"
      },
      "execution_count": null,
      "outputs": []
    },
    {
      "cell_type": "code",
      "source": [
        "finaldf=pd.DataFrame()\n",
        "for files in filelist:\n",
        "  if files.endswith(\".csv\"):      \n",
        "    #print(os.path.join(input_loc,files))\n",
        "    df=pd.read_csv(os.path.join(input_location3,files),skiprows=4) # Here in the excel file we have some irrevelant data till the row no 4 thats why we have skip those rows.\n",
        "    print(df)    \n",
        "    finaldf=finaldf.append(df)\n",
        "finaldf.to_excel(os.path.join(output_location3,\"MergedExcel6.xlsx\"),index=False)"
      ],
      "metadata": {
        "id": "Vd23XhwY2VH4"
      },
      "execution_count": null,
      "outputs": []
    },
    {
      "cell_type": "markdown",
      "source": [
        "Problem 7: Merging of walking excel files"
      ],
      "metadata": {
        "id": "tICi1xNm21Fr"
      }
    },
    {
      "cell_type": "code",
      "source": [
        "import pandas as pd\n",
        "import os"
      ],
      "metadata": {
        "id": "w6DT4KLH2l0y"
      },
      "execution_count": null,
      "outputs": []
    },
    {
      "cell_type": "code",
      "source": [
        "input_location3=\"/content/drive/MyDrive/AReM/walking\"\n",
        "output_location3=\"/content/drive/MyDrive/AReM/walking\""
      ],
      "metadata": {
        "id": "hXc7KH2Z2lu6"
      },
      "execution_count": null,
      "outputs": []
    },
    {
      "cell_type": "code",
      "source": [
        "filelist=os.listdir(input_location)"
      ],
      "metadata": {
        "id": "hpkblEM52loB"
      },
      "execution_count": null,
      "outputs": []
    },
    {
      "cell_type": "code",
      "source": [
        "finaldf=pd.DataFrame()\n",
        "for files in filelist:\n",
        "  if files.endswith(\".csv\"):      \n",
        "    #print(os.path.join(input_loc,files))\n",
        "    df=pd.read_csv(os.path.join(input_location3,files),skiprows=4) # Here in the excel file we have some irrevelant data till the row no 4 thats why we have skip those rows.\n",
        "    print(df)    \n",
        "    finaldf=finaldf.append(df)\n",
        "finaldf.to_excel(os.path.join(output_location3,\"MergedExcel7.xlsx\"),index=False)"
      ],
      "metadata": {
        "id": "bzPFWz9V2U4O"
      },
      "execution_count": null,
      "outputs": []
    },
    {
      "cell_type": "code",
      "source": [
        ""
      ],
      "metadata": {
        "id": "aQhcrGZ42Rqv"
      },
      "execution_count": null,
      "outputs": []
    }
  ]
}