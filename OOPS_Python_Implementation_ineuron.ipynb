{
  "nbformat": 4,
  "nbformat_minor": 0,
  "metadata": {
    "colab": {
      "name": "OOPS_Python Implementation_ineuron.ipynb",
      "private_outputs": true,
      "provenance": [],
      "collapsed_sections": []
    },
    "kernelspec": {
      "name": "python3",
      "display_name": "Python 3"
    },
    "language_info": {
      "name": "python"
    }
  },
  "cells": [
    {
      "cell_type": "markdown",
      "source": [
        "DEFINING THE CLASS OR DECLARATION OF THE CLASS"
      ],
      "metadata": {
        "id": "xvYBooX67hV5"
      }
    },
    {
      "cell_type": "code",
      "source": [
        "class test:                 # Syntax for creating the class in the python\n",
        "  pass                      # Keyword to pass if we have to make the dummy class in the python."
      ],
      "metadata": {
        "id": "NDIV3WlV7nyR"
      },
      "execution_count": null,
      "outputs": []
    },
    {
      "cell_type": "code",
      "source": [
        "a=test()                    # Syntax for making the object of the class            "
      ],
      "metadata": {
        "id": "JuvaUniB8ZPQ"
      },
      "execution_count": null,
      "outputs": []
    },
    {
      "cell_type": "code",
      "source": [
        "a.name=\"Pranjal\"            # Syntax for initializing the values to the objects and uiltimately to the class test.\n",
        "a.ph_no= 7355969644                          \n",
        "a.sur_name=\"Mehrotra\""
      ],
      "metadata": {
        "id": "sMPpjlIX8nHe"
      },
      "execution_count": null,
      "outputs": []
    },
    {
      "cell_type": "code",
      "source": [
        "b=test()\n",
        "b.name=\"Nishi\"\n",
        "b.ph_no=9839743663\n",
        "b.sur_name=\"Mehrotra\""
      ],
      "metadata": {
        "id": "IxCl9sdc9QpO"
      },
      "execution_count": null,
      "outputs": []
    },
    {
      "cell_type": "code",
      "source": [
        "print(b.sur_name)\n",
        "b.sur_name"
      ],
      "metadata": {
        "id": "7zhK-0zL-C2K"
      },
      "execution_count": null,
      "outputs": []
    },
    {
      "cell_type": "markdown",
      "source": [
        "IN ORDER TO REMOVE THE ABOVE TEDIOUS TASK AND IT IS ALSO NOT APPROPIATE TO CALL THE OBJECTS BY THOSE THINGS.WE HAVE ANOTHER WAY OF IMPLEMENTING IT USING THE INITIALIZER METHOD"
      ],
      "metadata": {
        "id": "WWyThHkEBCs9"
      }
    },
    {
      "cell_type": "code",
      "source": [
        "class test1:\n",
        "  def __init__(self,name,ph_no,sur_name):   # Here self is a pointer and it is the format for defining the initializers in python.\n",
        "    self.name=name\n",
        "    self.ph_no=ph_no\n",
        "    self.sur_name=sur_name\n"
      ],
      "metadata": {
        "id": "7cF9Nd_nBZfl"
      },
      "execution_count": null,
      "outputs": []
    },
    {
      "cell_type": "code",
      "source": [
        "r=test1() #this well generate the error on execution as the object has to take the 3 parameterts namely name,ph_no,sur_name respectively."
      ],
      "metadata": {
        "id": "olHE_8CSCRzY"
      },
      "execution_count": null,
      "outputs": []
    },
    {
      "cell_type": "code",
      "source": [
        "r=test1(\"Pranjal\",7355969644,\"Mehrotra\")  # It will try to take the data in the sequential Manner"
      ],
      "metadata": {
        "id": "zw0YwuXKB1Cr"
      },
      "execution_count": null,
      "outputs": []
    },
    {
      "cell_type": "code",
      "source": [
        "r.ph_no"
      ],
      "metadata": {
        "id": "sT6P1si4MEWB"
      },
      "execution_count": null,
      "outputs": []
    },
    {
      "cell_type": "code",
      "source": [
        "r=test1(name=\"Pranjal\",ph_no=7355969644,sur_name=\"Mehrotra\")   # It will try to take the data in random order but we have to specify the variable to which the data has to be assigned."
      ],
      "metadata": {
        "id": "6MF1P_WFKkiE"
      },
      "execution_count": null,
      "outputs": []
    },
    {
      "cell_type": "code",
      "source": [
        "r.name"
      ],
      "metadata": {
        "id": "5iv8LDuFLeNS"
      },
      "execution_count": null,
      "outputs": []
    },
    {
      "cell_type": "code",
      "source": [
        "t=test1(\"Gunjan\", 9830743663,\"Gupta\")"
      ],
      "metadata": {
        "id": "UAquRHdfL4-E"
      },
      "execution_count": null,
      "outputs": []
    },
    {
      "cell_type": "code",
      "source": [
        "t.name"
      ],
      "metadata": {
        "id": "8S-HQ9SKMWgC"
      },
      "execution_count": null,
      "outputs": []
    },
    {
      "cell_type": "code",
      "source": [
        "t.sur_name\n"
      ],
      "metadata": {
        "id": "GHJEHPY3MZPZ"
      },
      "execution_count": null,
      "outputs": []
    },
    {
      "cell_type": "markdown",
      "source": [
        "CAR CLASS TYPE WITH THE ATTRIBUTES LIKE TYPE,MODEL ETC."
      ],
      "metadata": {
        "id": "yU_2ORFOvfyV"
      }
    },
    {
      "cell_type": "code",
      "source": [
        "class car:\n",
        "  def __init__(self, year , make, model , eng_type , tyre_type):\n",
        "    self.year=year          # year on both sides are not same and while passing the argument of year in object, object parameter will always mapped with the pointer side year.\n",
        "    self.make=make\n",
        "    self.model=model\n",
        "    self.eng_type=eng_type\n",
        "    self.tyre_type=tyre_type\n",
        "\n",
        "  def eng_type1(self) :          \n",
        "    return self.make\n",
        "    return self.make\n",
        "    return self.model\n",
        "    return self.eng_type\n",
        "   \n",
        "  def __str__(self):     # This is used to print the message when object alone is called under the print function.If this inbuilt function is not called then error will be displayed while calling the object inside the print function.\n",
        "    return(\"This is my class of car and please input the parameters related to the car only.\")\n",
        "\n",
        "\n",
        "\n"
      ],
      "metadata": {
        "id": "OLD71W_IvnGc"
      },
      "execution_count": null,
      "outputs": []
    },
    {
      "cell_type": "code",
      "source": [
        "audi=car(2021,\"2342\",\"23\",\"xyz\",\"yu\")"
      ],
      "metadata": {
        "id": "NdNnCVVUxQ9D"
      },
      "execution_count": null,
      "outputs": []
    },
    {
      "cell_type": "code",
      "source": [
        "audi.eng_type1()                     # Here while passing keep the point in mind that if we are passing variable then dont pass it as a function and vice versa       "
      ],
      "metadata": {
        "id": "hNG46UPVusRW"
      },
      "execution_count": null,
      "outputs": []
    },
    {
      "cell_type": "code",
      "source": [
        "print(audi)"
      ],
      "metadata": {
        "id": "MeS8gF3I0RC9"
      },
      "execution_count": null,
      "outputs": []
    },
    {
      "cell_type": "markdown",
      "source": [
        "READING THE ENTIRE DATA OF THE EXCEL FILE,CSV FILE IN THE CLASS WITH THE ENTIRE CODING."
      ],
      "metadata": {
        "id": "FN2od7a-pHmG"
      }
    },
    {
      "cell_type": "code",
      "source": [
        "import pandas as pd\n",
        "class datamanipulation:\n",
        "  def __init__(self , read_csv , read_excel , read_db):\n",
        "    self.read_csv=read_csv\n",
        "    self.read_excel=read_excel\n",
        "    self.read_db=read_db\n",
        "\n",
        "  def read_csv1(self):\n",
        "    #return(\"Data from the csv file\")\n",
        "    df=pd.read_csv(r\"/content/drive/MyDrive/Practise_Google colab/Admission_Prediction.csv\")\n",
        "    print(df.head())\n",
        "    print(df.tail())\n",
        "  \n",
        "  def read_excel1(self):\n",
        "    return(\"Data from the excel file\")\n",
        "  def read_db1(self):\n",
        "    return(\"Data from the db file\")"
      ],
      "metadata": {
        "id": "Dz84c_1hpTHz"
      },
      "execution_count": null,
      "outputs": []
    },
    {
      "cell_type": "code",
      "source": [
        "files=datamanipulation(\"Admission_Prediction.csv\",\"b\",\"c\") \n",
        "files.read_csv1()"
      ],
      "metadata": {
        "id": "k74XPFznqqrh"
      },
      "execution_count": null,
      "outputs": []
    },
    {
      "cell_type": "markdown",
      "source": [
        "CONCEPT OF ACCESS SPECIFIER(PRIVATE,PROTECTED AND PUBLIC)"
      ],
      "metadata": {
        "id": "PiPu3gnZCAMN"
      }
    },
    {
      "cell_type": "code",
      "source": [
        "class test2:\n",
        "  def __init__(self,a,b,c):\n",
        "    self._a=a\n",
        "    self.__b=b\n",
        "    self.c=c"
      ],
      "metadata": {
        "id": "TVBob4D7CGX3"
      },
      "execution_count": null,
      "outputs": []
    },
    {
      "cell_type": "code",
      "source": [
        "m=test2(\"Mehrotra\",\"Pranjal\",123456)"
      ],
      "metadata": {
        "id": "p97n-IV-C9y4"
      },
      "execution_count": null,
      "outputs": []
    },
    {
      "cell_type": "code",
      "source": [
        "m.a    # Here m.a will not work because in the initializwe part of wself, we have passed self_a."
      ],
      "metadata": {
        "id": "dIgPzrXyDO5f"
      },
      "execution_count": null,
      "outputs": []
    },
    {
      "cell_type": "code",
      "source": [
        "m._a  # Now it will work"
      ],
      "metadata": {
        "id": "XCdYuuCrDYjv"
      },
      "execution_count": null,
      "outputs": []
    },
    {
      "cell_type": "code",
      "source": [
        "m._test2__b "
      ],
      "metadata": {
        "id": "-pzOF2SyD8TZ"
      },
      "execution_count": null,
      "outputs": []
    },
    {
      "cell_type": "code",
      "source": [
        "# c  This is the public variable and it can be accessed outside the class.\n",
        "# _c This is the protected variable and it can be accessed outside the class and within the subclasses of that class only with the _(underscore symbol)\n",
        "#__c This is the private variable and it can be accessed within the class only. "
      ],
      "metadata": {
        "id": "_Ih44k7vEHE6"
      },
      "execution_count": null,
      "outputs": []
    },
    {
      "cell_type": "code",
      "source": [
        "# To access the private variable we have to use the following way:    m._test2__b i.e objectname._classname__privatevariablename"
      ],
      "metadata": {
        "id": "KBjt2l-aJN-s"
      },
      "execution_count": null,
      "outputs": []
    },
    {
      "cell_type": "markdown",
      "source": [
        "CONCEPT OF INHERITANCE.(WHEN NO ARGUMENT ARE PASSED IN THE CHILD CLASS)"
      ],
      "metadata": {
        "id": "-uHjwPkUP7ru"
      }
    },
    {
      "cell_type": "code",
      "source": [
        "class test1:\n",
        "  def __init__(self,a,b,c,d):\n",
        "    self.a=a\n",
        "    self.b=b\n",
        "    self.c=c\n",
        "  def test_in(self):\n",
        "    print(self.a)\n",
        "    print(self.b)\n",
        "    print(self.c)\n",
        "  \n",
        "  def test_out(self):\n",
        "    return \"This is my second method\"\n",
        "  \n",
        "  def test_out2(self):\n",
        "    return \"This is my third method\"\n",
        "  \n",
        "  def test_out3(self):\n",
        "    return \"This is my fourth method\"\n",
        "  \n",
        "class test2(test1):    # Here we have child class as test2 and the base class as test1 and no arguments has been passed in the child class\n",
        "    pass"
      ],
      "metadata": {
        "id": "Q1flzP3BP_3G"
      },
      "execution_count": null,
      "outputs": []
    },
    {
      "cell_type": "code",
      "source": [
        "tes=test1(\"pra\",\"4567\",\"9000\",\"oooo\")"
      ],
      "metadata": {
        "id": "sn8g__-R03mj"
      },
      "execution_count": null,
      "outputs": []
    },
    {
      "cell_type": "code",
      "source": [
        "tes=test2(234,456,678,555)"
      ],
      "metadata": {
        "id": "eNsAO6NEP8gv"
      },
      "execution_count": null,
      "outputs": []
    },
    {
      "cell_type": "code",
      "source": [
        "tes.b"
      ],
      "metadata": {
        "id": "WCRl22rFQIVr"
      },
      "execution_count": null,
      "outputs": []
    },
    {
      "cell_type": "markdown",
      "source": [
        "INHERITANCE:CASE2 (ARGUMNETS OF THE BASE CLASS ALONG WITH THE OTHER ARGUMENTS ARE PASSED IN THE CHILD CLASS BUT ONLY EXTRA ARGUMENTS HAVE BEEN INITIALIZED IN THE CHILD CLASS)"
      ],
      "metadata": {
        "id": "S4xczKLIRnRB"
      }
    },
    {
      "cell_type": "code",
      "source": [
        "class test1:\n",
        "  def __init__(self,a,b,c,d):\n",
        "    self.a=a\n",
        "    self.b=b\n",
        "    self.c=c\n",
        "    self.d=d\n",
        "  def test_in(self):\n",
        "    print(self.a)\n",
        "    print(self.b)\n",
        "    print(self.c)\n",
        "    print(self.d)\n",
        "  \n",
        "  def test_out(self):\n",
        "    return \"This is my second method\"\n",
        "  \n",
        "  def test_out2(self):\n",
        "    return \"This is my third method\"\n",
        "  \n",
        "  def test_out3(self):\n",
        "    return \"This is my fourth method\"\n",
        "  \n",
        "  \n",
        "class test2(test1): # Here we have child class as test2 and the base class as test1\n",
        "  def __init__(self,a,b,c,d,p,q):\n",
        "     self.p=p\n",
        "     self.q=q\n",
        "     test1.__init__(self,a,b,c,d)"
      ],
      "metadata": {
        "id": "pfK2ne9rRqPz"
      },
      "execution_count": null,
      "outputs": []
    },
    {
      "cell_type": "code",
      "source": [
        "tes1=test1(\"pra\",\"4567\",\"9000\",\"oooo\")"
      ],
      "metadata": {
        "id": "V52RW65ZR24s"
      },
      "execution_count": null,
      "outputs": []
    },
    {
      "cell_type": "code",
      "source": [
        "tes2=test2(333,3333,33333,777,999,9998)"
      ],
      "metadata": {
        "id": "xXx9dR11SEMG"
      },
      "execution_count": null,
      "outputs": []
    },
    {
      "cell_type": "code",
      "source": [
        "tes2.c"
      ],
      "metadata": {
        "id": "mE3SUi6HSGKT"
      },
      "execution_count": null,
      "outputs": []
    },
    {
      "cell_type": "code",
      "source": [
        "tes2.a"
      ],
      "metadata": {
        "id": "1lZG6G6gSXiZ"
      },
      "execution_count": null,
      "outputs": []
    },
    {
      "cell_type": "code",
      "source": [
        "tes2.b"
      ],
      "metadata": {
        "id": "DPy_DstoXcMA"
      },
      "execution_count": null,
      "outputs": []
    },
    {
      "cell_type": "markdown",
      "source": [
        "INHERITANCE: CASE3(EXTRA ARGUMENTS HAVE BEEN PASSED AND INITIALIZED IN THE CHILD CLASS)"
      ],
      "metadata": {
        "id": "UicPizR-X1Sa"
      }
    },
    {
      "cell_type": "code",
      "source": [
        "class test1:\n",
        "  def __init__(self,a,b,c,d):\n",
        "    self.a=a\n",
        "    self.b=b\n",
        "    self.c=c\n",
        "    self.d=d\n",
        "  def test_in(self):\n",
        "    print(self.a)\n",
        "    print(self.b)\n",
        "    print(self.c)\n",
        "    print(self.d)\n",
        "  \n",
        "  def test_out(self):\n",
        "    return \"This is my second method\"\n",
        "  \n",
        "  def test_out2(self):\n",
        "    return \"This is my third method\"\n",
        "  \n",
        "  def test_out3(self):\n",
        "    return \"This is my fourth method\"\n",
        "class test2(test1): # Here we have child class as test2 and the base class as test1\n",
        "  def __init__(p,q):\n",
        "     self.p=p\n",
        "     self.q=q\n",
        "     test1.__init__(self,a,b,c,d)"
      ],
      "metadata": {
        "id": "vOUDZdA1X537"
      },
      "execution_count": null,
      "outputs": []
    },
    {
      "cell_type": "code",
      "source": [
        "tes1=test1(\"pra\",\"4567\",\"9000\",\"oooo\")"
      ],
      "metadata": {
        "id": "dU-v6Iy-X7t3"
      },
      "execution_count": null,
      "outputs": []
    },
    {
      "cell_type": "code",
      "source": [
        "tes2=test2(999,9998)"
      ],
      "metadata": {
        "id": "r3iYy42FYGv3"
      },
      "execution_count": null,
      "outputs": []
    },
    {
      "cell_type": "markdown",
      "source": [
        "INHERITANCE: CASE4(BASE CLASS HAS NOT BEEN INITIALIZED IN THE CHILD CLASS)"
      ],
      "metadata": {
        "id": "jpny6VJ4aGeu"
      }
    },
    {
      "cell_type": "code",
      "source": [
        "class test1:\n",
        "  def __init__(self,a,b,c,d):\n",
        "    self.a=a\n",
        "    self.b=b\n",
        "    self.c=c\n",
        "    self.d=d\n",
        "  def test_in(self):\n",
        "    print(self.a)\n",
        "    print(self.b)\n",
        "    print(self.c)\n",
        "    print(self.d)\n",
        "  \n",
        "  def test_out(self):\n",
        "    return \"This is my second method\"\n",
        "  \n",
        "  def test_out2(self):\n",
        "    return \"This is my third method\"\n",
        "  \n",
        "  def test_out3(self):\n",
        "    return \"This is my fourth method\"\n",
        "  \n",
        "  \n",
        "class test2(test1): # Here we have child class as test2 and the base class as test1\n",
        "  def __init__(self,a,b,c,d,p,q):\n",
        "     self.p=p\n",
        "     self.q=q\n",
        "     #test1.__init__(self,a,b,c,d)"
      ],
      "metadata": {
        "id": "TdBMAj7RZC_8"
      },
      "execution_count": null,
      "outputs": []
    },
    {
      "cell_type": "code",
      "source": [
        "tes1=test1(\"pra\",\"4567\",\"9000\",\"oooo\")"
      ],
      "metadata": {
        "id": "lWVZbCKHZZM1"
      },
      "execution_count": null,
      "outputs": []
    },
    {
      "cell_type": "code",
      "source": [
        "tes2=test2(333,3333,33333,777,999,9998)"
      ],
      "metadata": {
        "id": "U9rdcWu8ZZsS"
      },
      "execution_count": null,
      "outputs": []
    },
    {
      "cell_type": "code",
      "source": [
        "tes2.q"
      ],
      "metadata": {
        "id": "J0YhlZn-Zk2h"
      },
      "execution_count": null,
      "outputs": []
    },
    {
      "cell_type": "code",
      "source": [
        "tes2.p"
      ],
      "metadata": {
        "id": "wiio3wRpZlEz"
      },
      "execution_count": null,
      "outputs": []
    },
    {
      "cell_type": "markdown",
      "source": [
        "INHERITANCE: CASE 5(ARGUMNETS OF THE BASE CLASS ALONG WITH THE OTHER ARGUMENTS ARE PASSED IN THE CHILD CLASS AND ALL THE ARGUMENTS  HAVE BEEN INITIALIZED IN THE CHILD CLASS)"
      ],
      "metadata": {
        "id": "4vKj-CjaaUcA"
      }
    },
    {
      "cell_type": "code",
      "source": [
        "class test1:\n",
        "  def __init__(self,a,b,c,d):\n",
        "    self.a=a\n",
        "    self.b=b\n",
        "    self.c=c\n",
        "    self.d=d\n",
        "  def test_in(self):\n",
        "    print(self.a)\n",
        "    print(self.b)\n",
        "    print(self.c)\n",
        "    print(self.d)\n",
        "  \n",
        "  def test_out(self):\n",
        "    return \"This is my second method\"\n",
        "  \n",
        "  def test_out2(self):\n",
        "    return \"This is my third method\"\n",
        "  \n",
        "  def test_out3(self):\n",
        "    return \"This is my fourth method\"\n",
        "  \n",
        "  \n",
        "class test2(test1): # Here we have child class as test2 and the base class as test1\n",
        "  def __init__(self,a,b,c,d,p,q):\n",
        "    self.a=a\n",
        "    self.b=b\n",
        "    self.c=c\n",
        "    self.d=d\n",
        "    self.p=p\n",
        "    self.q=q\n",
        "    test1.__init__(self,a,b,c,d)"
      ],
      "metadata": {
        "id": "cioixFMRaQWb"
      },
      "execution_count": null,
      "outputs": []
    },
    {
      "cell_type": "code",
      "source": [
        "tes1=test1(\"pra\",\"4567\",\"9000\",\"oooo\")"
      ],
      "metadata": {
        "id": "ktCm0gSKaYA7"
      },
      "execution_count": null,
      "outputs": []
    },
    {
      "cell_type": "code",
      "source": [
        "tes2=test2(333,3333,33333,777,999,9998)"
      ],
      "metadata": {
        "id": "vLJtluLub_kE"
      },
      "execution_count": null,
      "outputs": []
    },
    {
      "cell_type": "code",
      "source": [
        "tes2.c"
      ],
      "metadata": {
        "id": "QNzel1-OcDuO"
      },
      "execution_count": null,
      "outputs": []
    },
    {
      "cell_type": "code",
      "source": [
        "tes2.p"
      ],
      "metadata": {
        "id": "rcjBKedccMjH"
      },
      "execution_count": null,
      "outputs": []
    },
    {
      "cell_type": "code",
      "source": [
        "tes2.b"
      ],
      "metadata": {
        "id": "iFLk8XwfcMeR"
      },
      "execution_count": null,
      "outputs": []
    },
    {
      "cell_type": "code",
      "source": [
        "tes2.test_out3()"
      ],
      "metadata": {
        "id": "bexHofqNcX04"
      },
      "execution_count": null,
      "outputs": []
    },
    {
      "cell_type": "markdown",
      "source": [
        "COMPLETE PROGRAME OF INHERTIANCE ALONG WITH ALL THE FUNCTIONALITIES"
      ],
      "metadata": {
        "id": "7_bL8S_bf1gO"
      }
    },
    {
      "cell_type": "code",
      "source": [
        "class test1:\n",
        "  def __init__(self,a,b,c,d):\n",
        "    self.a=a\n",
        "    self.b=b\n",
        "    self.c=c\n",
        "    self.d=d\n",
        "  def test_in(self):\n",
        "    print(self.a)\n",
        "    print(self.b)\n",
        "    print(self.c)\n",
        "    print(self.d)\n",
        "  \n",
        "  def test_out(self):\n",
        "    return \"This is my second method\"\n",
        "  \n",
        "  def test_out2(self):\n",
        "    return \"This is my third method\"\n",
        "  \n",
        "  def test_out3(self):\n",
        "    return \"This is my fourth method\"\n",
        "  \n",
        "  \n",
        "class test2(test1): # Here we have child class as test2 and the base class as test1\n",
        "  def __init__(self,a,b,c,d,p,q):\n",
        "    self.p=p\n",
        "    self.q=q\n",
        "    test1.__init__(self,a,b,c,d)"
      ],
      "metadata": {
        "id": "uYi2AdVXcgng"
      },
      "execution_count": null,
      "outputs": []
    },
    {
      "cell_type": "code",
      "source": [
        "tes1=test1(\"pra\",\"4567\",\"9000\",\"oooo\")"
      ],
      "metadata": {
        "id": "ASLO48b7gDV7"
      },
      "execution_count": null,
      "outputs": []
    },
    {
      "cell_type": "code",
      "source": [
        "tes2=test2(333,3333,33333,777,999,9998)"
      ],
      "metadata": {
        "id": "dQPjUWJhgD1C"
      },
      "execution_count": null,
      "outputs": []
    },
    {
      "cell_type": "code",
      "source": [
        "tes2.a"
      ],
      "metadata": {
        "id": "qpNQeME5gHre"
      },
      "execution_count": null,
      "outputs": []
    },
    {
      "cell_type": "code",
      "source": [
        "tes2.b"
      ],
      "metadata": {
        "id": "e0qsxbargKUA"
      },
      "execution_count": null,
      "outputs": []
    },
    {
      "cell_type": "markdown",
      "source": [
        "Note 1.init is used when we want to pass the values as well as initialze the values of the varaibles inside the class.Otherwise we dont have to pass the init function inside the class\n",
        "\n",
        "2.  test1.__init__(self,a,b,c,d) is used inside the child class only if we have define the constructor in the parent class.If initialization of the varialbles is done withoout constructor then dont use this syntax in the child class."
      ],
      "metadata": {
        "id": "IKkG79AKhN2A"
      }
    },
    {
      "cell_type": "code",
      "source": [
        "#PROGRAMME OF THE INHERITANCE WITHOUT INITIALIZING THE VARIABLES INSIDE THE PARENT CLASS"
      ],
      "metadata": {
        "id": "rx7THvjVwZ4A"
      },
      "execution_count": null,
      "outputs": []
    },
    {
      "cell_type": "code",
      "source": [
        "class INEURON:\n",
        "  company_name=\"INEURON\"\n",
        "  year_of_establishment=2019\n",
        "  no_of_employees=200\n",
        "  def company(self):\n",
        "    return \"This is the ineuron company established in 2019\"\n",
        "  def year(self):\n",
        "    return \"The year of establishment of the company is 2019\"\n",
        "  def employees(self):\n",
        "    return \"The no of employees of the company is 200\"\n",
        "\n",
        "class MLDL(INEURON):\n",
        "  def __init__(self):\n",
        "    pass\n",
        "  # MLDL.__init__(self,a,b,c,d) - Here we have not passed this line to this code because in the parent class(INEURON) we have not use the constructor or initializer.\n",
        "\n",
        "  \n"
      ],
      "metadata": {
        "id": "AAey8Lm4Fj6P"
      },
      "execution_count": null,
      "outputs": []
    },
    {
      "cell_type": "code",
      "source": [
        "mldl.year()"
      ],
      "metadata": {
        "id": "GrH-EYs9PP_0"
      },
      "execution_count": null,
      "outputs": []
    },
    {
      "cell_type": "code",
      "source": [
        ""
      ],
      "metadata": {
        "id": "KwtiE0_iPYIj"
      },
      "execution_count": null,
      "outputs": []
    }
  ]
}